{
 "cells": [
  {
   "cell_type": "code",
   "execution_count": 1,
   "metadata": {},
   "outputs": [],
   "source": [
    "import os\n",
    "import pandas as pd\n",
    "import numpy as np\n",
    "from matplotlib import pyplot as plt\n",
    "import pyrealsense2 as rs\n",
    "import cv2"
   ]
  },
  {
   "cell_type": "code",
   "execution_count": 2,
   "metadata": {},
   "outputs": [],
   "source": [
    "intrinsics = rs.intrinsics()\n",
    "intrinsics.width = 848\n",
    "intrinsics.height = 480\n",
    "intrinsics.fx = 424.5785827636719\n",
    "intrinsics.fy = 424.5785827636719\n",
    "intrinsics.ppx = 422.18994140625\n",
    "intrinsics.ppy = 244.84666442871094\n",
    "intrinsics.model = rs.distortion.brown_conrady"
   ]
  },
  {
   "cell_type": "code",
   "execution_count": 3,
   "metadata": {},
   "outputs": [],
   "source": [
    "data = pd.read_csv('id_weight_sex_uuid.csv')"
   ]
  },
  {
   "cell_type": "code",
   "execution_count": 4,
   "metadata": {},
   "outputs": [],
   "source": [
    "ids = data.id.unique()\n",
    "ids_cont = np.zeros(len(ids))"
   ]
  },
  {
   "cell_type": "code",
   "execution_count": 7,
   "metadata": {},
   "outputs": [
    {
     "data": {
      "text/html": [
       "<div>\n",
       "<style scoped>\n",
       "    .dataframe tbody tr th:only-of-type {\n",
       "        vertical-align: middle;\n",
       "    }\n",
       "\n",
       "    .dataframe tbody tr th {\n",
       "        vertical-align: top;\n",
       "    }\n",
       "\n",
       "    .dataframe thead th {\n",
       "        text-align: right;\n",
       "    }\n",
       "</style>\n",
       "<table border=\"1\" class=\"dataframe\">\n",
       "  <thead>\n",
       "    <tr style=\"text-align: right;\">\n",
       "      <th></th>\n",
       "      <th>row</th>\n",
       "      <th>uuid</th>\n",
       "      <th>id</th>\n",
       "      <th>sex</th>\n",
       "      <th>weight</th>\n",
       "    </tr>\n",
       "  </thead>\n",
       "  <tbody>\n",
       "    <tr>\n",
       "      <th>0</th>\n",
       "      <td>0</td>\n",
       "      <td>3b144fdfdb9f4e02b0f65aed674fbd72</td>\n",
       "      <td>0268</td>\n",
       "      <td>1</td>\n",
       "      <td>24.5</td>\n",
       "    </tr>\n",
       "    <tr>\n",
       "      <th>1</th>\n",
       "      <td>1</td>\n",
       "      <td>960fd92c91f541f6b85889426c39a0fe</td>\n",
       "      <td>0261</td>\n",
       "      <td>1</td>\n",
       "      <td>27.1</td>\n",
       "    </tr>\n",
       "    <tr>\n",
       "      <th>2</th>\n",
       "      <td>2</td>\n",
       "      <td>ca10f050724d47f5971c3530ef341a8d</td>\n",
       "      <td>0236</td>\n",
       "      <td>0</td>\n",
       "      <td>25.5</td>\n",
       "    </tr>\n",
       "    <tr>\n",
       "      <th>3</th>\n",
       "      <td>3</td>\n",
       "      <td>3c4dcc3c6d83425dab0d0acd75227f99</td>\n",
       "      <td>0236</td>\n",
       "      <td>0</td>\n",
       "      <td>25.5</td>\n",
       "    </tr>\n",
       "    <tr>\n",
       "      <th>4</th>\n",
       "      <td>4</td>\n",
       "      <td>46d3f67bbf684992ac945ce7c1991ae7</td>\n",
       "      <td>0238</td>\n",
       "      <td>1</td>\n",
       "      <td>25.8</td>\n",
       "    </tr>\n",
       "  </tbody>\n",
       "</table>\n",
       "</div>"
      ],
      "text/plain": [
       "   row                              uuid    id  sex  weight\n",
       "0    0  3b144fdfdb9f4e02b0f65aed674fbd72  0268    1    24.5\n",
       "1    1  960fd92c91f541f6b85889426c39a0fe  0261    1    27.1\n",
       "2    2  ca10f050724d47f5971c3530ef341a8d  0236    0    25.5\n",
       "3    3  3c4dcc3c6d83425dab0d0acd75227f99  0236    0    25.5\n",
       "4    4  46d3f67bbf684992ac945ce7c1991ae7  0238    1    25.8"
      ]
     },
     "execution_count": 7,
     "metadata": {},
     "output_type": "execute_result"
    }
   ],
   "source": [
    "data.head()"
   ]
  },
  {
   "cell_type": "code",
   "execution_count": 59,
   "metadata": {},
   "outputs": [],
   "source": [
    "for index,row in data.iterrows():\n",
    "    img = np.load('depth/'+row.uuid+'.npy')\n",
    "    depth_colorized = cv2.applyColorMap(np.uint8(cv2.normalize(img, None, 0, 255, cv2.NORM_MINMAX)),cv2.COLORMAP_JET)\n",
    "    img_color = np.load('color/'+row.uuid+'.npy')\n",
    "    \n",
    "    _, mask = cv2.threshold(img,900,255,cv2.THRESH_BINARY)\n",
    "    mask = mask.astype(np.uint8)\n",
    "    size_h, size_w = mask.shape\n",
    "\n",
    "    cv2.imwrite('results/img_base_depth.png', depth_colorized)\n",
    "    cv2.imwrite('results/img_base_color.png', img_color)\n",
    "    cv2.imwrite('results/img_base_mask.png', mask)\n",
    "    \n",
    "    contours, hierarchy = cv2.findContours(mask, cv2.RETR_TREE, cv2.CHAIN_APPROX_SIMPLE)\n",
    "    contour = []\n",
    "    contour_area = 0\n",
    "    for cnt in contours:\n",
    "        area = cv2.contourArea(cnt)\n",
    "        if area>20000 and area<200000:\n",
    "            if area>contour_area:\n",
    "                contour_area = area\n",
    "                contour = cnt\n",
    "    if contour_area>500:\n",
    "        x,y,w,h = cv2.boundingRect(contour)\n",
    "\n",
    "        border = 50\n",
    "        v = [x-border, x+w+border,y-border, y+h+border]\n",
    "        v[0] = v[0] if v[0]>=0 else 0\n",
    "        v[1] = v[1] if v[1]<size_w else size_w-1\n",
    "        v[2] = v[2] if v[2]>=0 else 0\n",
    "        v[3] = v[3] if v[3]<size_h else size_h-1\n",
    "        \n",
    "        img_bb = depth_colorized.copy()\n",
    "        image = cv2.rectangle(img_bb, (x,y), (x+w,y+h), (0,255,0), 5)\n",
    "        image = cv2.rectangle(img_bb, (v[0],v[2]), (v[1],v[3]), (0,255,0), 3)\n",
    "\n",
    "        img = img[v[2]:v[3], v[0]:v[1]]\n",
    "        img_color = img_color[v[2]:v[3], v[0]:v[1]]\n",
    "        depth_colorized = depth_colorized[v[2]:v[3], v[0]:v[1]]\n",
    "        mask = mask[v[2]:v[3], v[0]:v[1]]\n",
    "        \n",
    "        cv2.imwrite('results/img_base_bb.png', img_bb)\n",
    "        cv2.imwrite('results/img_process_depth.png', depth_colorized)\n",
    "        cv2.imwrite('results/img_process_color.png', img_color)\n",
    "        cv2.imwrite('results/img_process_mask.png', mask)\n",
    "\n",
    "    depth_value = cv2.mean(img, mask)[0]\n",
    "    height = rs.rs2_deproject_pixel_to_point(intrinsics, [100,100], depth_value)[2] #xyz\n",
    "    height = height / 1000\n",
    "    #id_sexo_peso_altura\n",
    "    index = np.where(ids==row.id)[0][0]\n",
    "    sex = 'Men' if row.sex == 0 else 'Women'\n",
    "    ids_cont[index] = ids_cont[index]+1\n",
    "    id_cont = int(ids_cont[index])\n",
    "    \n",
    "    \n",
    "    #cv2.imwrite('images/'+str(index+1).zfill(4)+'_'+sex+'_'+str(row.weight)+'_'+ \"{:.2f}\".format(height)+'_'+str(id_cont).zfill(6)+'.png', img)\n",
    "    break"
   ]
  },
  {
   "cell_type": "code",
   "execution_count": null,
   "metadata": {},
   "outputs": [],
   "source": []
  },
  {
   "cell_type": "code",
   "execution_count": null,
   "metadata": {},
   "outputs": [],
   "source": []
  }
 ],
 "metadata": {
  "kernelspec": {
   "display_name": "Python 3",
   "language": "python",
   "name": "python3"
  },
  "language_info": {
   "codemirror_mode": {
    "name": "ipython",
    "version": 3
   },
   "file_extension": ".py",
   "mimetype": "text/x-python",
   "name": "python",
   "nbconvert_exporter": "python",
   "pygments_lexer": "ipython3",
   "version": "3.7.8"
  }
 },
 "nbformat": 4,
 "nbformat_minor": 4
}
